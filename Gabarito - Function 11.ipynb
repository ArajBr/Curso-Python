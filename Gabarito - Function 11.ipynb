{
 "cells": [
  {
   "cell_type": "markdown",
   "metadata": {},
   "source": [
    "# Quantidade Indefinidas de Argumentos\n",
    "\n",
    "### Utilidade:\n",
    "\n",
    "Quando você quer permitir uma quantidade indefinida de argumentos, usa o * para isso.\n",
    "\n",
    "### Estrutura:"
   ]
  },
  {
   "cell_type": "raw",
   "metadata": {},
   "source": [
    "*args para positional arguments -> argumentos vêm em formato de tupla\n",
    "\n",
    "def minha_funcao(*args):\n",
    "    ...\n",
    "\n",
    "\n",
    "**kwargs para keyword arguments -> argumentos vêm em formato de dicionário\n",
    "\n",
    "def minha_funcao(**kwargs):\n",
    "    ..."
   ]
  },
  {
   "cell_type": "code",
   "execution_count": null,
   "metadata": {},
   "outputs": [],
   "source": [
    "def minha_soma(*numeros):\n",
    "    print(numeros)\n",
    "    soma = 0\n",
    "    for numero in numeros:\n",
    "        soma += numero\n",
    "    return soma"
   ]
  },
  {
   "cell_type": "code",
   "execution_count": null,
   "metadata": {},
   "outputs": [],
   "source": [
    "print(minha_soma(10, 13, 1, 10, 90, 0, 9, 8))"
   ]
  },
  {
   "cell_type": "code",
   "execution_count": null,
   "metadata": {},
   "outputs": [],
   "source": [
    "def preco_final(preco, **adicionais):\n",
    "    print(adicionais)\n",
    "    if 'desconto' in adicionais:\n",
    "        preco *= (1 - adicionais['desconto'])\n",
    "    if 'garantia_extra' in adicionais:\n",
    "        preco += adicionais['garantia_extra'] \n",
    "    if 'imposto' in adicionais:\n",
    "        preco *= (1 + adicionais['imposto'])\n",
    "    return preco"
   ]
  },
  {
   "cell_type": "code",
   "execution_count": null,
   "metadata": {},
   "outputs": [],
   "source": [
    "print(preco_final(1000, desconto=0.1, garantia_extra = 100, imposto=0.3))"
   ]
  },
  {
   "cell_type": "code",
   "execution_count": null,
   "metadata": {},
   "outputs": [],
   "source": [
    "def strip_comments(strng, markers):\n",
    "    lists = []\n",
    "    i = 0\n",
    "    for strn in strng:\n",
    "    #Find the position where the special caracters are\n",
    "        if strng.find(markers) != -1:\n",
    "        #Use this position as a limiter\n",
    "        #Finally cut the string until the limiter position\n",
    "            cut = strng[:strng.find('#')]\n",
    "            lists.append(cut)\n",
    "        else:            \n",
    "            return cut\n",
    "    return cut       "
   ]
  },
  {
   "cell_type": "code",
   "execution_count": null,
   "metadata": {},
   "outputs": [],
   "source": [
    "print(strip_comments('apples, pears # and bananas','#'))"
   ]
  },
  {
   "cell_type": "code",
   "execution_count": null,
   "metadata": {},
   "outputs": [],
   "source": [
    "strng = 'apples, pears # and bananas\\ngrapes\\nbananas !apples'\n",
    "markers = '#'\n",
    "cut1 = strng[:strng.find('\\n')]\n",
    "lists = []\n",
    "i = 0\n",
    "for i, strn in enumerate(strng):\n",
    "    #Find the position where the special caracters are\n",
    "    if strng.find(markers) != -1:\n",
    "        #Use this position as a limiter\n",
    "        #Finally cut the string until the limiter position\n",
    "        cut = strng[:strng.find('#')]\n",
    "        lists.append(cut)\n",
    "    else:            \n",
    "        strngs[strn] = strng"
   ]
  },
  {
   "cell_type": "code",
   "execution_count": null,
   "metadata": {},
   "outputs": [],
   "source": [
    "\n",
    "print(cut1)"
   ]
  },
  {
   "cell_type": "code",
   "execution_count": null,
   "metadata": {},
   "outputs": [],
   "source": [
    "strng = 'apples, ! pears # and bananas'\n",
    "markers = ['#','!','&']\n",
    "\n",
    "lists = []\n",
    "#Find the position where the special caracters are\n",
    "for i in enumerate(markers):\n",
    "    if strng.find(markers[i]) != -1:\n",
    "    #Use this position as a limiter\n",
    "    #Finally cut the string until the limiter position\n",
    "        cut = strng[:strng.find(markers[i])]\n",
    "else:            \n",
    "    return cut\n",
    "return cut"
   ]
  },
  {
   "cell_type": "code",
   "execution_count": null,
   "metadata": {
    "scrolled": true
   },
   "outputs": [],
   "source": [
    "import functools\n",
    "import operator\n",
    "import re\n",
    "def convertTuple(tup):\n",
    "    str = functools.reduce(operator.add, (tup))\n",
    "    return str\n",
    "\n",
    "def find_all(a_str, sub):\n",
    "    start = 0\n",
    "    while True:\n",
    "        start = a_str.find(sub, start)\n",
    "        if start == -1: return\n",
    "        yield start\n",
    "        start += len(sub) # use start += 1 to find overlapping matches\n",
    "\n",
    "markers = ['#','!','&']\n",
    "strng = 'apples, pears # and bananas\\ngrapes\\nbananas !apples'\n",
    "#string = ([item.split('\\n') for item in strng])\n",
    "\n",
    "asd = []\n",
    "for match in re.finditer('\\n', strng):\n",
    "    asd.append(match.start())\n",
    "count = len(asd)\n",
    "\n",
    "for i in range(len(markers)):\n",
    "    if strng.find(markers[i]) != -1:\n",
    "        lists = strng[asd[i]:asd[i+1]]\n",
    "        print(lists)\n",
    "        lists = lists[:lists.find(markers[i])]\n",
    "        #lists=(([item.split(markers[i]) for item in lists]))\n",
    "        #lists = convertTuple(lists)  \n",
    "        #lists = convertTuple(lists)\n",
    "    #else:  \n",
    "        #str = convertTuple(lists)\n",
    "        #str = convertTuple(str)\n",
    "        \n",
    "print(lists)\n",
    "#print(lists)   \n",
    "\n",
    "\n",
    "#str = convertTuple(lists)\n",
    "#str = convertTuple(str)\n",
    "#print(str)"
   ]
  },
  {
   "cell_type": "code",
   "execution_count": null,
   "metadata": {},
   "outputs": [],
   "source": [
    "print(len(asd))"
   ]
  },
  {
   "cell_type": "code",
   "execution_count": null,
   "metadata": {},
   "outputs": [],
   "source": [
    "import functools\n",
    "import operator\n",
    "import re\n",
    "\n",
    "def convertTuple(tup):\n",
    "    str = functools.reduce(operator.add, (tup))\n",
    "    return str\n",
    "\n",
    "def find_all(a_str, sub):\n",
    "    start = 0\n",
    "    while True:\n",
    "        start = a_str.find(sub, start)\n",
    "        if start == -1: return\n",
    "        yield start\n",
    "        start += len(sub) # use start += 1 to find overlapping matches\n",
    "\n",
    "markers = ['#','!','&']\n",
    "strng = 'apples, pears # and bananas\\ngrapes\\nbananas !apples'\n",
    "asd = []\n",
    "#Finding separators\n",
    "for match in re.finditer('\\n', strng):\n",
    "    asd.append(match.start())\n",
    "\n",
    "\n",
    "for i in range(len(asd)+1):\n",
    "    print(i)\n",
    "    if strng.find(markers[i]) != -1:\n",
    "        if strng.find(markers[i]) < asd[0]:\n",
    "            lists = strng[:asd[0]]   \n",
    "        lists = lists[:lists.find(markers[i])]            \n",
    "    else:\n",
    "        lists = strng[i-1:i]\n",
    "    print(lists)    \n",
    "\n",
    "        #print(lists)\n",
    " "
   ]
  },
  {
   "cell_type": "code",
   "execution_count": null,
   "metadata": {},
   "outputs": [],
   "source": [
    "print(len(asd))\n",
    "print(strng[asd[0]:asd[1]])"
   ]
  },
  {
   "cell_type": "code",
   "execution_count": 3,
   "metadata": {},
   "outputs": [
    {
     "name": "stdout",
     "output_type": "stream",
     "text": [
      " a \n",
      "c\n",
      "d \n",
      " a \n",
      "c\n",
      "d \n"
     ]
    }
   ],
   "source": [
    "markers = ['#','!','&','$']\n",
    "strng = ' a #b\\nc\\nd $e f g'\n",
    "\n",
    "split_list = strng.split(\"\\n\")\n",
    "new = []\n",
    "aux=0\n",
    "if split_list[0] == ' ':\n",
    "    aux = 1\n",
    "for item in split_list:\n",
    "    s = \"\"\n",
    "    for char in item:\n",
    "        if char in markers:\n",
    "            break\n",
    "        else:\n",
    "            s = s + char       \n",
    "    new.append(s)\n",
    "print(\"\\n\".join(new))    \n",
    "if aux == 1:\n",
    "    lists = ' '+new\n",
    "else:\n",
    "    lists = new\n",
    "print(\"\\n\".join(new))"
   ]
  },
  {
   "cell_type": "code",
   "execution_count": null,
   "metadata": {},
   "outputs": [],
   "source": [
    "\n",
    "s_list = strng.split('\\n')\n",
    "for marker in markers:\n",
    "    s_list = [item.split(marker)[0].strip() for item in s_list]\n",
    "print( '\\n'.join(s_list))"
   ]
  },
  {
   "cell_type": "code",
   "execution_count": null,
   "metadata": {},
   "outputs": [],
   "source": [
    "        #new = convertTuple(new)\n",
    "                    print(new.isspace())\n",
    "        #print(type(new))\n",
    "        print(new)"
   ]
  },
  {
   "cell_type": "code",
   "execution_count": null,
   "metadata": {},
   "outputs": [],
   "source": []
  },
  {
   "cell_type": "code",
   "execution_count": null,
   "metadata": {},
   "outputs": [],
   "source": []
  }
 ],
 "metadata": {
  "kernelspec": {
   "display_name": "Python 3 (ipykernel)",
   "language": "python",
   "name": "python3"
  },
  "language_info": {
   "codemirror_mode": {
    "name": "ipython",
    "version": 3
   },
   "file_extension": ".py",
   "mimetype": "text/x-python",
   "name": "python",
   "nbconvert_exporter": "python",
   "pygments_lexer": "ipython3",
   "version": "3.9.12"
  }
 },
 "nbformat": 4,
 "nbformat_minor": 4
}
